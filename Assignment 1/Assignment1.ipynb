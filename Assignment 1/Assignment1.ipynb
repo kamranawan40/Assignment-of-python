{
 "cells": [
  {
   "cell_type": "code",
   "execution_count": 1,
   "id": "befd606f",
   "metadata": {},
   "outputs": [
    {
     "name": "stdout",
     "output_type": "stream",
     "text": [
      "hello world\n"
     ]
    }
   ],
   "source": [
    "print(\"hello world\");"
   ]
  },
  {
   "cell_type": "code",
   "execution_count": 24,
   "id": "62264de4",
   "metadata": {},
   "outputs": [
    {
     "name": "stdout",
     "output_type": "stream",
     "text": [
      "Twinke twinke little star, \n",
      "\tHow I wonder what you are! \n",
      "\t\tUp above the world so high! \n",
      "\t\tLike the dimond in the sky\n",
      "Twinkle, twinkle, little star\n",
      "\tHow I wandor, what you are\n"
     ]
    }
   ],
   "source": [
    "print(\"Twinke twinke little star, \\n\\tHow I wonder what you are! \\n\\t\\tUp above the world so high! \\n\\t\\tLike the dimond in the sky\\nTwinkle, twinkle, little star\\n\\tHow I wandor, what you are\");"
   ]
  },
  {
   "cell_type": "code",
   "execution_count": 8,
   "id": "9b1b7ee5",
   "metadata": {},
   "outputs": [
    {
     "name": "stdout",
     "output_type": "stream",
     "text": [
      "Enter radius of circle: 2\n",
      "Area of circle = 12.56\n"
     ]
    }
   ],
   "source": [
    "r = float(input(\"Enter radius of circle: \"))\n",
    "a = 3.14 * r * r\n",
    "print(\"Area of circle =\", a)"
   ]
  },
  {
   "cell_type": "code",
   "execution_count": 7,
   "id": "f75a0299",
   "metadata": {},
   "outputs": [
    {
     "name": "stdout",
     "output_type": "stream",
     "text": [
      "3.9.7\n"
     ]
    }
   ],
   "source": []
  },
  {
   "cell_type": "code",
   "execution_count": 22,
   "id": "4f89f0f2",
   "metadata": {},
   "outputs": [
    {
     "name": "stdout",
     "output_type": "stream",
     "text": [
      "Input your first name: kamran\n",
      "Input your last name: awan\n",
      "awan kamran\n"
     ]
    }
   ],
   "source": [
    "f = input(\"Input your first name: \")\n",
    "l = input(\"Input your last name: \" )\n",
    "print(l, f)"
   ]
  },
  {
   "cell_type": "code",
   "execution_count": 17,
   "id": "99cccaca",
   "metadata": {},
   "outputs": [
    {
     "name": "stdout",
     "output_type": "stream",
     "text": [
      "enter the first number: 6\n",
      "enter the second number: 1\n",
      "sum = 7\n"
     ]
    }
   ],
   "source": [
    "a = int(input(\"enter the first number: \"))\n",
    "b = int(input(\"enter the second number: \"))\n",
    "print(\"sum =\",a+b)"
   ]
  },
  {
   "cell_type": "code",
   "execution_count": null,
   "id": "1539961b",
   "metadata": {},
   "outputs": [],
   "source": []
  }
 ],
 "metadata": {
  "kernelspec": {
   "display_name": "Python 3 (ipykernel)",
   "language": "python",
   "name": "python3"
  },
  "language_info": {
   "codemirror_mode": {
    "name": "ipython",
    "version": 3
   },
   "file_extension": ".py",
   "mimetype": "text/x-python",
   "name": "python",
   "nbconvert_exporter": "python",
   "pygments_lexer": "ipython3",
   "version": "3.9.7"
  }
 },
 "nbformat": 4,
 "nbformat_minor": 5
}
